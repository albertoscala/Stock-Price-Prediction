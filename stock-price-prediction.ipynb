{
 "cells": [
  {
   "cell_type": "markdown",
   "metadata": {},
   "source": [
    "# Stock price prediction"
   ]
  },
  {
   "cell_type": "markdown",
   "metadata": {},
   "source": [
    "## Importing libraries"
   ]
  },
  {
   "cell_type": "markdown",
   "metadata": {},
   "source": [
    "### Pandas"
   ]
  },
  {
   "cell_type": "code",
   "execution_count": 20,
   "metadata": {},
   "outputs": [],
   "source": [
    "import pandas as pd"
   ]
  },
  {
   "cell_type": "markdown",
   "metadata": {},
   "source": [
    "### NumPy"
   ]
  },
  {
   "cell_type": "code",
   "execution_count": 21,
   "metadata": {},
   "outputs": [],
   "source": [
    "import numpy as np"
   ]
  },
  {
   "cell_type": "markdown",
   "metadata": {},
   "source": [
    "### Matplotlib"
   ]
  },
  {
   "cell_type": "code",
   "execution_count": 22,
   "metadata": {},
   "outputs": [],
   "source": [
    "%matplotlib inline\n",
    "import matplotlib\n",
    "import matplotlib.pyplot as plt\n",
    "import matplotlib.dates as mandates"
   ]
  },
  {
   "cell_type": "markdown",
   "metadata": {},
   "source": [
    "### SciKit-Learn"
   ]
  },
  {
   "cell_type": "code",
   "execution_count": 23,
   "metadata": {},
   "outputs": [],
   "source": [
    "from sklearn.preprocessing import MinMaxScaler\n",
    "from sklearn.model_selection import TimeSeriesSplit\n",
    "from sklearn.metrics import mean_squared_error, r2_score\n",
    "from sklearn import linear_model"
   ]
  },
  {
   "cell_type": "markdown",
   "metadata": {},
   "source": [
    "### Keras (Tensorflow)"
   ]
  },
  {
   "cell_type": "code",
   "execution_count": 24,
   "metadata": {},
   "outputs": [],
   "source": [
    "from tensorflow.python.keras.layers import LSTM, Dense, Dropout\n",
    "from tensorflow.python.keras.models import Sequential\n",
    "from tensorflow.python.keras.layers import Dense\n",
    "from tensorflow.python.keras.layers import Layer\n",
    "import tensorflow.python.keras.backend as K\n",
    "from tensorflow.python.keras.callbacks import EarlyStopping\n",
    "from tensorflow.python.keras.optimizers import adam_v2\n",
    "from tensorflow.python.keras.layers import LSTM\n",
    "from tensorflow.python.keras.utils.vis_utils import plot_model"
   ]
  },
  {
   "cell_type": "markdown",
   "metadata": {},
   "source": [
    "## Visualise dataset"
   ]
  },
  {
   "cell_type": "markdown",
   "metadata": {},
   "source": [
    "### Load dataset"
   ]
  },
  {
   "cell_type": "code",
   "execution_count": 25,
   "metadata": {},
   "outputs": [
    {
     "name": "stderr",
     "output_type": "stream",
     "text": [
      "/tmp/ipykernel_495/4137364296.py:1: FutureWarning: The argument 'infer_datetime_format' is deprecated and will be removed in a future version. A strict version of it is now the default, see https://pandas.pydata.org/pdeps/0004-consistent-to-datetime-parsing.html. You can safely remove this argument.\n",
      "  df = pd.read_csv('dataset/nvda_stock_history.csv', na_values=['null'], index_col='Date', parse_dates=True, infer_datetime_format=True)\n"
     ]
    }
   ],
   "source": [
    "df = pd.read_csv('dataset/nvda_stock_history.csv', na_values=['null'], index_col='Date', parse_dates=True, infer_datetime_format=True)"
   ]
  },
  {
   "cell_type": "markdown",
   "metadata": {},
   "source": [
    "### Print dataset's head"
   ]
  },
  {
   "cell_type": "code",
   "execution_count": 26,
   "metadata": {},
   "outputs": [
    {
     "data": {
      "text/html": [
       "<div>\n",
       "<style scoped>\n",
       "    .dataframe tbody tr th:only-of-type {\n",
       "        vertical-align: middle;\n",
       "    }\n",
       "\n",
       "    .dataframe tbody tr th {\n",
       "        vertical-align: top;\n",
       "    }\n",
       "\n",
       "    .dataframe thead th {\n",
       "        text-align: right;\n",
       "    }\n",
       "</style>\n",
       "<table border=\"1\" class=\"dataframe\">\n",
       "  <thead>\n",
       "    <tr style=\"text-align: right;\">\n",
       "      <th></th>\n",
       "      <th>Open</th>\n",
       "      <th>High</th>\n",
       "      <th>Low</th>\n",
       "      <th>Close</th>\n",
       "      <th>Adj Close</th>\n",
       "      <th>Volume</th>\n",
       "    </tr>\n",
       "    <tr>\n",
       "      <th>Date</th>\n",
       "      <th></th>\n",
       "      <th></th>\n",
       "      <th></th>\n",
       "      <th></th>\n",
       "      <th></th>\n",
       "      <th></th>\n",
       "    </tr>\n",
       "  </thead>\n",
       "  <tbody>\n",
       "    <tr>\n",
       "      <th>1999-01-22</th>\n",
       "      <td>0.437500</td>\n",
       "      <td>0.488281</td>\n",
       "      <td>0.388021</td>\n",
       "      <td>0.410156</td>\n",
       "      <td>0.376358</td>\n",
       "      <td>271468800</td>\n",
       "    </tr>\n",
       "    <tr>\n",
       "      <th>1999-01-25</th>\n",
       "      <td>0.442708</td>\n",
       "      <td>0.458333</td>\n",
       "      <td>0.410156</td>\n",
       "      <td>0.453125</td>\n",
       "      <td>0.415786</td>\n",
       "      <td>51048000</td>\n",
       "    </tr>\n",
       "    <tr>\n",
       "      <th>1999-01-26</th>\n",
       "      <td>0.458333</td>\n",
       "      <td>0.467448</td>\n",
       "      <td>0.411458</td>\n",
       "      <td>0.417969</td>\n",
       "      <td>0.383527</td>\n",
       "      <td>34320000</td>\n",
       "    </tr>\n",
       "    <tr>\n",
       "      <th>1999-01-27</th>\n",
       "      <td>0.419271</td>\n",
       "      <td>0.429688</td>\n",
       "      <td>0.395833</td>\n",
       "      <td>0.416667</td>\n",
       "      <td>0.382332</td>\n",
       "      <td>24436800</td>\n",
       "    </tr>\n",
       "    <tr>\n",
       "      <th>1999-01-28</th>\n",
       "      <td>0.416667</td>\n",
       "      <td>0.419271</td>\n",
       "      <td>0.412760</td>\n",
       "      <td>0.415365</td>\n",
       "      <td>0.381137</td>\n",
       "      <td>22752000</td>\n",
       "    </tr>\n",
       "  </tbody>\n",
       "</table>\n",
       "</div>"
      ],
      "text/plain": [
       "                Open      High       Low     Close  Adj Close     Volume\n",
       "Date                                                                    \n",
       "1999-01-22  0.437500  0.488281  0.388021  0.410156   0.376358  271468800\n",
       "1999-01-25  0.442708  0.458333  0.410156  0.453125   0.415786   51048000\n",
       "1999-01-26  0.458333  0.467448  0.411458  0.417969   0.383527   34320000\n",
       "1999-01-27  0.419271  0.429688  0.395833  0.416667   0.382332   24436800\n",
       "1999-01-28  0.416667  0.419271  0.412760  0.415365   0.381137   22752000"
      ]
     },
     "execution_count": 26,
     "metadata": {},
     "output_type": "execute_result"
    }
   ],
   "source": [
    "df.head()"
   ]
  },
  {
   "cell_type": "markdown",
   "metadata": {},
   "source": [
    "## Clean dataset"
   ]
  },
  {
   "cell_type": "markdown",
   "metadata": {},
   "source": [
    "### Display dataset's head"
   ]
  },
  {
   "cell_type": "code",
   "execution_count": 27,
   "metadata": {},
   "outputs": [
    {
     "data": {
      "text/html": [
       "<div>\n",
       "<style scoped>\n",
       "    .dataframe tbody tr th:only-of-type {\n",
       "        vertical-align: middle;\n",
       "    }\n",
       "\n",
       "    .dataframe tbody tr th {\n",
       "        vertical-align: top;\n",
       "    }\n",
       "\n",
       "    .dataframe thead th {\n",
       "        text-align: right;\n",
       "    }\n",
       "</style>\n",
       "<table border=\"1\" class=\"dataframe\">\n",
       "  <thead>\n",
       "    <tr style=\"text-align: right;\">\n",
       "      <th></th>\n",
       "      <th>Open</th>\n",
       "      <th>High</th>\n",
       "      <th>Low</th>\n",
       "      <th>Close</th>\n",
       "      <th>Adj Close</th>\n",
       "      <th>Volume</th>\n",
       "    </tr>\n",
       "    <tr>\n",
       "      <th>Date</th>\n",
       "      <th></th>\n",
       "      <th></th>\n",
       "      <th></th>\n",
       "      <th></th>\n",
       "      <th></th>\n",
       "      <th></th>\n",
       "    </tr>\n",
       "  </thead>\n",
       "  <tbody>\n",
       "    <tr>\n",
       "      <th>1999-01-22</th>\n",
       "      <td>0.437500</td>\n",
       "      <td>0.488281</td>\n",
       "      <td>0.388021</td>\n",
       "      <td>0.410156</td>\n",
       "      <td>0.376358</td>\n",
       "      <td>271468800</td>\n",
       "    </tr>\n",
       "    <tr>\n",
       "      <th>1999-01-25</th>\n",
       "      <td>0.442708</td>\n",
       "      <td>0.458333</td>\n",
       "      <td>0.410156</td>\n",
       "      <td>0.453125</td>\n",
       "      <td>0.415786</td>\n",
       "      <td>51048000</td>\n",
       "    </tr>\n",
       "    <tr>\n",
       "      <th>1999-01-26</th>\n",
       "      <td>0.458333</td>\n",
       "      <td>0.467448</td>\n",
       "      <td>0.411458</td>\n",
       "      <td>0.417969</td>\n",
       "      <td>0.383527</td>\n",
       "      <td>34320000</td>\n",
       "    </tr>\n",
       "    <tr>\n",
       "      <th>1999-01-27</th>\n",
       "      <td>0.419271</td>\n",
       "      <td>0.429688</td>\n",
       "      <td>0.395833</td>\n",
       "      <td>0.416667</td>\n",
       "      <td>0.382332</td>\n",
       "      <td>24436800</td>\n",
       "    </tr>\n",
       "    <tr>\n",
       "      <th>1999-01-28</th>\n",
       "      <td>0.416667</td>\n",
       "      <td>0.419271</td>\n",
       "      <td>0.412760</td>\n",
       "      <td>0.415365</td>\n",
       "      <td>0.381137</td>\n",
       "      <td>22752000</td>\n",
       "    </tr>\n",
       "  </tbody>\n",
       "</table>\n",
       "</div>"
      ],
      "text/plain": [
       "                Open      High       Low     Close  Adj Close     Volume\n",
       "Date                                                                    \n",
       "1999-01-22  0.437500  0.488281  0.388021  0.410156   0.376358  271468800\n",
       "1999-01-25  0.442708  0.458333  0.410156  0.453125   0.415786   51048000\n",
       "1999-01-26  0.458333  0.467448  0.411458  0.417969   0.383527   34320000\n",
       "1999-01-27  0.419271  0.429688  0.395833  0.416667   0.382332   24436800\n",
       "1999-01-28  0.416667  0.419271  0.412760  0.415365   0.381137   22752000"
      ]
     },
     "execution_count": 27,
     "metadata": {},
     "output_type": "execute_result"
    }
   ],
   "source": [
    "df.head()"
   ]
  },
  {
   "cell_type": "markdown",
   "metadata": {},
   "source": [
    "### Checking is there is any `null` values"
   ]
  },
  {
   "cell_type": "code",
   "execution_count": 28,
   "metadata": {},
   "outputs": [
    {
     "data": {
      "text/plain": [
       "False"
      ]
     },
     "execution_count": 28,
     "metadata": {},
     "output_type": "execute_result"
    }
   ],
   "source": [
    "df.isnull().values.any()"
   ]
  },
  {
   "cell_type": "markdown",
   "metadata": {},
   "source": [
    "### Fill the missing values using the mean of the column"
   ]
  },
  {
   "cell_type": "code",
   "execution_count": 29,
   "metadata": {},
   "outputs": [],
   "source": [
    "df.fillna(df.mean(), inplace=True)"
   ]
  },
  {
   "cell_type": "markdown",
   "metadata": {},
   "source": [
    "### Double check to see if we filled all the missing values"
   ]
  },
  {
   "cell_type": "code",
   "execution_count": 30,
   "metadata": {},
   "outputs": [
    {
     "data": {
      "text/plain": [
       "False"
      ]
     },
     "execution_count": 30,
     "metadata": {},
     "output_type": "execute_result"
    }
   ],
   "source": [
    "df.isnull().values.any()"
   ]
  },
  {
   "cell_type": "markdown",
   "metadata": {},
   "source": [
    "## Visualising data"
   ]
  },
  {
   "cell_type": "markdown",
   "metadata": {},
   "source": [
    "### Plotting the true Adjusted Close value"
   ]
  },
  {
   "cell_type": "code",
   "execution_count": 31,
   "metadata": {},
   "outputs": [
    {
     "data": {
      "text/plain": [
       "Index(['Open', 'High', 'Low', 'Close', 'Adj Close', 'Volume'], dtype='object')"
      ]
     },
     "execution_count": 31,
     "metadata": {},
     "output_type": "execute_result"
    }
   ],
   "source": [
    "df.columns"
   ]
  },
  {
   "cell_type": "code",
   "execution_count": 32,
   "metadata": {},
   "outputs": [
    {
     "data": {
      "text/plain": [
       "<Axes: xlabel='Date'>"
      ]
     },
     "execution_count": 32,
     "metadata": {},
     "output_type": "execute_result"
    },
    {
     "data": {
      "image/png": "[encoded data removed]",
      "text/plain": [
       "<Figure size 640x480 with 1 Axes>"
      ]
     },
     "metadata": {},
     "output_type": "display_data"
    }
   ],
   "source": [
    "df['Adj Close'].plot()"
   ]
  },
  {
   "cell_type": "markdown",
   "metadata": {},
   "source": [
    "## Setting the data for the model"
   ]
  },
  {
   "cell_type": "markdown",
   "metadata": {},
   "source": [
    "### Set up the target variable and the features"
   ]
  },
  {
   "cell_type": "code",
   "execution_count": 33,
   "metadata": {},
   "outputs": [],
   "source": [
    "# Value of the stock at the end of the day to predict\n",
    "predict = pd.DataFrame(df['Adj Close'])\n",
    "\n",
    "# Features to use to predict the value of the stock\n",
    "features = ['Open', 'High', 'Low', 'Volume']"
   ]
  },
  {
   "cell_type": "markdown",
   "metadata": {},
   "source": [
    "### Scaling the data"
   ]
  },
  {
   "cell_type": "code",
   "execution_count": 34,
   "metadata": {},
   "outputs": [
    {
     "data": {
      "text/html": [
       "<div>\n",
       "<style scoped>\n",
       "    .dataframe tbody tr th:only-of-type {\n",
       "        vertical-align: middle;\n",
       "    }\n",
       "\n",
       "    .dataframe tbody tr th {\n",
       "        vertical-align: top;\n",
       "    }\n",
       "\n",
       "    .dataframe thead th {\n",
       "        text-align: right;\n",
       "    }\n",
       "</style>\n",
       "<table border=\"1\" class=\"dataframe\">\n",
       "  <thead>\n",
       "    <tr style=\"text-align: right;\">\n",
       "      <th></th>\n",
       "      <th>Open</th>\n",
       "      <th>High</th>\n",
       "      <th>Low</th>\n",
       "      <th>Volume</th>\n",
       "    </tr>\n",
       "    <tr>\n",
       "      <th>Date</th>\n",
       "      <th></th>\n",
       "      <th></th>\n",
       "      <th></th>\n",
       "      <th></th>\n",
       "    </tr>\n",
       "  </thead>\n",
       "  <tbody>\n",
       "    <tr>\n",
       "      <th>1999-01-22</th>\n",
       "      <td>0.000264</td>\n",
       "      <td>0.000384</td>\n",
       "      <td>0.000171</td>\n",
       "      <td>0.292580</td>\n",
       "    </tr>\n",
       "    <tr>\n",
       "      <th>1999-01-25</th>\n",
       "      <td>0.000280</td>\n",
       "      <td>0.000297</td>\n",
       "      <td>0.000240</td>\n",
       "      <td>0.053283</td>\n",
       "    </tr>\n",
       "    <tr>\n",
       "      <th>1999-01-26</th>\n",
       "      <td>0.000327</td>\n",
       "      <td>0.000324</td>\n",
       "      <td>0.000244</td>\n",
       "      <td>0.035123</td>\n",
       "    </tr>\n",
       "    <tr>\n",
       "      <th>1999-01-27</th>\n",
       "      <td>0.000210</td>\n",
       "      <td>0.000214</td>\n",
       "      <td>0.000195</td>\n",
       "      <td>0.024393</td>\n",
       "    </tr>\n",
       "    <tr>\n",
       "      <th>1999-01-28</th>\n",
       "      <td>0.000202</td>\n",
       "      <td>0.000184</td>\n",
       "      <td>0.000248</td>\n",
       "      <td>0.022564</td>\n",
       "    </tr>\n",
       "  </tbody>\n",
       "</table>\n",
       "</div>"
      ],
      "text/plain": [
       "                Open      High       Low    Volume\n",
       "Date                                              \n",
       "1999-01-22  0.000264  0.000384  0.000171  0.292580\n",
       "1999-01-25  0.000280  0.000297  0.000240  0.053283\n",
       "1999-01-26  0.000327  0.000324  0.000244  0.035123\n",
       "1999-01-27  0.000210  0.000214  0.000195  0.024393\n",
       "1999-01-28  0.000202  0.000184  0.000248  0.022564"
      ]
     },
     "execution_count": 34,
     "metadata": {},
     "output_type": "execute_result"
    }
   ],
   "source": [
    "scaler = MinMaxScaler()\n",
    "features_normalised = scaler.fit_transform(df[features])\n",
    "features_normalised = pd.DataFrame(columns=features, data=features_normalised, index=df.index)\n",
    "features_normalised.head()"
   ]
  },
  {
   "cell_type": "markdown",
   "metadata": {},
   "source": [
    "## Training"
   ]
  },
  {
   "cell_type": "markdown",
   "metadata": {},
   "source": [
    "### Create training set and testing set"
   ]
  },
  {
   "cell_type": "code",
   "execution_count": 35,
   "metadata": {},
   "outputs": [],
   "source": [
    "timesplit = TimeSeriesSplit(n_splits=10)\n",
    "\n",
    "for training_index, test_index in timesplit.split(features_normalised):\n",
    "    X_train, X_test = features_normalised[:len(training_index)], features_normalised[len(training_index): (len(training_index)+len(test_index))]\n",
    "    y_train, y_test = predict[:len(training_index)].values.ravel(), predict[len(training_index): (len(training_index)+len(test_index))].values.ravel()"
   ]
  },
  {
   "cell_type": "markdown",
   "metadata": {},
   "source": [
    "### Data processing for LSTM"
   ]
  },
  {
   "cell_type": "code",
   "execution_count": 36,
   "metadata": {},
   "outputs": [],
   "source": [
    "train_X = np.array(X_train)\n",
    "test_X = np.array(X_test)\n",
    "\n",
    "X_train = np.reshape(train_X, (train_X.shape[0], 1, train_X.shape[1]))\n",
    "X_test = np.reshape(test_X, (test_X.shape[0], 1, test_X.shape[1]))"
   ]
  },
  {
   "cell_type": "markdown",
   "metadata": {},
   "source": [
    "### LSTM preparation"
   ]
  },
  {
   "cell_type": "code",
   "execution_count": 37,
   "metadata": {},
   "outputs": [],
   "source": [
    "lstm = Sequential()\n",
    "lstm.add(LSTM(128, activation='relu', input_shape=(1, train_X.shape[1]), return_sequences=False))\n",
    "lstm.add(Dense(1))\n",
    "lstm.compile(optimizer='adam', loss='mse')"
   ]
  },
  {
   "cell_type": "code",
   "execution_count": 38,
   "metadata": {},
   "outputs": [
    {
     "ename": "ImportError",
     "evalue": "cannot import name 'wrappers' from 'tensorflow.python.keras.layers' (/home/albys/git/stock-price-prediction/lib/python3.11/site-packages/tensorflow/python/keras/layers/__init__.py)",
     "output_type": "error",
     "traceback": [
      "\u001b[0;31m---------------------------------------------------------------------------\u001b[0m",
      "\u001b[0;31mImportError\u001b[0m                               Traceback (most recent call last)",
      "\u001b[1;32m/home/albys/git/stock-price-prediction/stock-price-prediction.ipynb Cell 43\u001b[0m line \u001b[0;36m1\n\u001b[0;32m----> <a href='vscode-notebook-cell://wsl%2Barch/home/albys/git/stock-price-prediction/stock-price-prediction.ipynb#X66sdnNjb2RlLXJlbW90ZQ%3D%3D?line=0'>1</a>\u001b[0m plot_model(lstm, show_shapes\u001b[39m=\u001b[39;49m\u001b[39mTrue\u001b[39;49;00m, show_layer_names\u001b[39m=\u001b[39;49m\u001b[39mTrue\u001b[39;49;00m)\n",
      "File \u001b[0;32m~/git/stock-price-prediction/lib/python3.11/site-packages/tensorflow/python/keras/utils/vis_utils.py:319\u001b[0m, in \u001b[0;36mplot_model\u001b[0;34m(model, to_file, show_shapes, show_dtype, show_layer_names, rankdir, expand_nested, dpi)\u001b[0m\n\u001b[1;32m    276\u001b[0m \u001b[39mdef\u001b[39;00m \u001b[39mplot_model\u001b[39m(model,\n\u001b[1;32m    277\u001b[0m                to_file\u001b[39m=\u001b[39m\u001b[39m'\u001b[39m\u001b[39mmodel.png\u001b[39m\u001b[39m'\u001b[39m,\n\u001b[1;32m    278\u001b[0m                show_shapes\u001b[39m=\u001b[39m\u001b[39mFalse\u001b[39;00m,\n\u001b[0;32m   (...)\u001b[0m\n\u001b[1;32m    282\u001b[0m                expand_nested\u001b[39m=\u001b[39m\u001b[39mFalse\u001b[39;00m,\n\u001b[1;32m    283\u001b[0m                dpi\u001b[39m=\u001b[39m\u001b[39m96\u001b[39m):\n\u001b[1;32m    284\u001b[0m \u001b[39m  \u001b[39m\u001b[39m\"\"\"Converts a Keras model to dot format and save to a file.\u001b[39;00m\n\u001b[1;32m    285\u001b[0m \n\u001b[1;32m    286\u001b[0m \u001b[39m  Example:\u001b[39;00m\n\u001b[0;32m   (...)\u001b[0m\n\u001b[1;32m    317\u001b[0m \u001b[39m    This enables in-line display of the model plots in notebooks.\u001b[39;00m\n\u001b[1;32m    318\u001b[0m \u001b[39m  \"\"\"\u001b[39;00m\n\u001b[0;32m--> 319\u001b[0m   dot \u001b[39m=\u001b[39m model_to_dot(\n\u001b[1;32m    320\u001b[0m       model,\n\u001b[1;32m    321\u001b[0m       show_shapes\u001b[39m=\u001b[39;49mshow_shapes,\n\u001b[1;32m    322\u001b[0m       show_dtype\u001b[39m=\u001b[39;49mshow_dtype,\n\u001b[1;32m    323\u001b[0m       show_layer_names\u001b[39m=\u001b[39;49mshow_layer_names,\n\u001b[1;32m    324\u001b[0m       rankdir\u001b[39m=\u001b[39;49mrankdir,\n\u001b[1;32m    325\u001b[0m       expand_nested\u001b[39m=\u001b[39;49mexpand_nested,\n\u001b[1;32m    326\u001b[0m       dpi\u001b[39m=\u001b[39;49mdpi)\n\u001b[1;32m    327\u001b[0m   to_file \u001b[39m=\u001b[39m path_to_string(to_file)\n\u001b[1;32m    328\u001b[0m   \u001b[39mif\u001b[39;00m dot \u001b[39mis\u001b[39;00m \u001b[39mNone\u001b[39;00m:\n",
      "File \u001b[0;32m~/git/stock-price-prediction/lib/python3.11/site-packages/tensorflow/python/keras/utils/vis_utils.py:96\u001b[0m, in \u001b[0;36mmodel_to_dot\u001b[0;34m(model, show_shapes, show_dtype, show_layer_names, rankdir, expand_nested, dpi, subgraph)\u001b[0m\n\u001b[1;32m     65\u001b[0m \u001b[39mdef\u001b[39;00m \u001b[39mmodel_to_dot\u001b[39m(model,\n\u001b[1;32m     66\u001b[0m                  show_shapes\u001b[39m=\u001b[39m\u001b[39mFalse\u001b[39;00m,\n\u001b[1;32m     67\u001b[0m                  show_dtype\u001b[39m=\u001b[39m\u001b[39mFalse\u001b[39;00m,\n\u001b[0;32m   (...)\u001b[0m\n\u001b[1;32m     71\u001b[0m                  dpi\u001b[39m=\u001b[39m\u001b[39m96\u001b[39m,\n\u001b[1;32m     72\u001b[0m                  subgraph\u001b[39m=\u001b[39m\u001b[39mFalse\u001b[39;00m):\n\u001b[1;32m     73\u001b[0m \u001b[39m  \u001b[39m\u001b[39m\"\"\"Convert a Keras model to dot format.\u001b[39;00m\n\u001b[1;32m     74\u001b[0m \n\u001b[1;32m     75\u001b[0m \u001b[39m  Args:\u001b[39;00m\n\u001b[0;32m   (...)\u001b[0m\n\u001b[1;32m     94\u001b[0m \u001b[39m    ImportError: if graphviz or pydot are not available.\u001b[39;00m\n\u001b[1;32m     95\u001b[0m \u001b[39m  \"\"\"\u001b[39;00m\n\u001b[0;32m---> 96\u001b[0m   \u001b[39mfrom\u001b[39;00m \u001b[39mtensorflow\u001b[39;00m\u001b[39m.\u001b[39;00m\u001b[39mpython\u001b[39;00m\u001b[39m.\u001b[39;00m\u001b[39mkeras\u001b[39;00m\u001b[39m.\u001b[39;00m\u001b[39mlayers\u001b[39;00m \u001b[39mimport\u001b[39;00m wrappers\n\u001b[1;32m     97\u001b[0m   \u001b[39mfrom\u001b[39;00m \u001b[39mtensorflow\u001b[39;00m\u001b[39m.\u001b[39;00m\u001b[39mpython\u001b[39;00m\u001b[39m.\u001b[39;00m\u001b[39mkeras\u001b[39;00m\u001b[39m.\u001b[39;00m\u001b[39mengine\u001b[39;00m \u001b[39mimport\u001b[39;00m sequential\n\u001b[1;32m     98\u001b[0m   \u001b[39mfrom\u001b[39;00m \u001b[39mtensorflow\u001b[39;00m\u001b[39m.\u001b[39;00m\u001b[39mpython\u001b[39;00m\u001b[39m.\u001b[39;00m\u001b[39mkeras\u001b[39;00m\u001b[39m.\u001b[39;00m\u001b[39mengine\u001b[39;00m \u001b[39mimport\u001b[39;00m functional\n",
      "\u001b[0;31mImportError\u001b[0m: cannot import name 'wrappers' from 'tensorflow.python.keras.layers' (/home/albys/git/stock-price-prediction/lib/python3.11/site-packages/tensorflow/python/keras/layers/__init__.py)"
     ]
    }
   ],
   "source": [
    "plot_model(lstm, show_shapes=True, show_layer_names=True)"
   ]
  },
  {
   "cell_type": "markdown",
   "metadata": {},
   "source": [
    "### Model training"
   ]
  },
  {
   "cell_type": "code",
   "execution_count": null,
   "metadata": {},
   "outputs": [
    {
     "name": "stdout",
     "output_type": "stream",
     "text": [
      "Epoch 1/100\n"
     ]
    },
    {
     "name": "stdout",
     "output_type": "stream",
     "text": [
      "348/348 [==============================] - 3s 3ms/step - loss: 628.6224\n",
      "Epoch 2/100\n",
      "348/348 [==============================] - 1s 2ms/step - loss: 525.2003\n",
      "Epoch 3/100\n",
      "348/348 [==============================] - 1s 2ms/step - loss: 436.6660\n",
      "Epoch 4/100\n",
      "348/348 [==============================] - 1s 2ms/step - loss: 385.6234\n",
      "Epoch 5/100\n",
      "348/348 [==============================] - 1s 2ms/step - loss: 336.2931\n",
      "Epoch 6/100\n",
      "348/348 [==============================] - 1s 2ms/step - loss: 283.8549\n",
      "Epoch 7/100\n",
      "348/348 [==============================] - 1s 2ms/step - loss: 227.7017\n",
      "Epoch 8/100\n",
      "348/348 [==============================] - 1s 3ms/step - loss: 168.1904\n",
      "Epoch 9/100\n",
      "348/348 [==============================] - 1s 2ms/step - loss: 110.1832\n",
      "Epoch 10/100\n",
      "348/348 [==============================] - 1s 2ms/step - loss: 64.3853\n",
      "Epoch 11/100\n",
      "348/348 [==============================] - 1s 2ms/step - loss: 36.6032\n",
      "Epoch 12/100\n",
      "348/348 [==============================] - 1s 2ms/step - loss: 22.7376\n",
      "Epoch 13/100\n",
      "348/348 [==============================] - 1s 3ms/step - loss: 15.9464\n",
      "Epoch 14/100\n",
      "348/348 [==============================] - 1s 3ms/step - loss: 12.1585\n",
      "Epoch 15/100\n",
      "348/348 [==============================] - 1s 3ms/step - loss: 9.6611\n",
      "Epoch 16/100\n",
      "348/348 [==============================] - 1s 3ms/step - loss: 7.7995\n",
      "Epoch 17/100\n",
      "348/348 [==============================] - 1s 3ms/step - loss: 6.3176\n",
      "Epoch 18/100\n",
      "348/348 [==============================] - 1s 3ms/step - loss: 5.1107\n",
      "Epoch 19/100\n",
      "348/348 [==============================] - 1s 3ms/step - loss: 4.1365\n",
      "Epoch 20/100\n",
      "348/348 [==============================] - 1s 2ms/step - loss: 3.3695\n",
      "Epoch 21/100\n",
      "348/348 [==============================] - 1s 2ms/step - loss: 2.7815\n",
      "Epoch 22/100\n",
      "348/348 [==============================] - 1s 2ms/step - loss: 2.3387\n",
      "Epoch 23/100\n",
      "348/348 [==============================] - 1s 2ms/step - loss: 2.0109\n",
      "Epoch 24/100\n",
      "348/348 [==============================] - 1s 2ms/step - loss: 1.7690\n",
      "Epoch 25/100\n",
      "348/348 [==============================] - 1s 2ms/step - loss: 1.5874\n",
      "Epoch 26/100\n",
      "348/348 [==============================] - 1s 2ms/step - loss: 1.4444\n",
      "Epoch 27/100\n",
      "348/348 [==============================] - 1s 3ms/step - loss: 1.3258\n",
      "Epoch 28/100\n",
      "348/348 [==============================] - 1s 2ms/step - loss: 1.2219\n",
      "Epoch 29/100\n",
      "348/348 [==============================] - 1s 3ms/step - loss: 1.1264\n",
      "Epoch 30/100\n",
      "348/348 [==============================] - 1s 3ms/step - loss: 1.0374\n",
      "Epoch 31/100\n",
      "348/348 [==============================] - 1s 2ms/step - loss: 0.9533\n",
      "Epoch 32/100\n",
      "348/348 [==============================] - 1s 3ms/step - loss: 0.8703\n",
      "Epoch 33/100\n",
      "348/348 [==============================] - 1s 2ms/step - loss: 0.7880\n",
      "Epoch 34/100\n",
      "348/348 [==============================] - 1s 2ms/step - loss: 0.7078\n",
      "Epoch 35/100\n",
      "348/348 [==============================] - 1s 3ms/step - loss: 0.6330\n",
      "Epoch 36/100\n",
      "348/348 [==============================] - 1s 2ms/step - loss: 0.5645\n",
      "Epoch 37/100\n",
      "348/348 [==============================] - 1s 2ms/step - loss: 0.5048\n",
      "Epoch 38/100\n",
      "348/348 [==============================] - 1s 3ms/step - loss: 0.4545\n",
      "Epoch 39/100\n",
      "348/348 [==============================] - 1s 2ms/step - loss: 0.4137\n",
      "Epoch 40/100\n",
      "348/348 [==============================] - 1s 2ms/step - loss: 0.3816\n",
      "Epoch 41/100\n",
      "348/348 [==============================] - 1s 2ms/step - loss: 0.3592\n",
      "Epoch 42/100\n",
      "348/348 [==============================] - 1s 3ms/step - loss: 0.3447\n",
      "Epoch 43/100\n",
      "348/348 [==============================] - 1s 2ms/step - loss: 0.3357\n",
      "Epoch 44/100\n",
      "348/348 [==============================] - 1s 2ms/step - loss: 0.3286\n",
      "Epoch 45/100\n",
      "348/348 [==============================] - 1s 2ms/step - loss: 0.3213\n",
      "Epoch 46/100\n",
      "348/348 [==============================] - 1s 2ms/step - loss: 0.3136\n",
      "Epoch 47/100\n",
      "348/348 [==============================] - 1s 2ms/step - loss: 0.3054\n",
      "Epoch 48/100\n",
      "348/348 [==============================] - 1s 2ms/step - loss: 0.2971\n",
      "Epoch 49/100\n",
      "348/348 [==============================] - 1s 2ms/step - loss: 0.2898\n",
      "Epoch 50/100\n",
      "348/348 [==============================] - 1s 2ms/step - loss: 0.2850\n",
      "Epoch 51/100\n",
      "348/348 [==============================] - 1s 2ms/step - loss: 0.2830\n",
      "Epoch 52/100\n",
      "348/348 [==============================] - 1s 2ms/step - loss: 0.2838\n",
      "Epoch 53/100\n",
      "348/348 [==============================] - 1s 2ms/step - loss: 0.2877\n",
      "Epoch 54/100\n",
      "348/348 [==============================] - 1s 2ms/step - loss: 0.2927\n",
      "Epoch 55/100\n",
      "348/348 [==============================] - 1s 3ms/step - loss: 0.2972\n",
      "Epoch 56/100\n",
      "348/348 [==============================] - 1s 2ms/step - loss: 0.2997\n",
      "Epoch 57/100\n",
      "348/348 [==============================] - 1s 3ms/step - loss: 0.3014\n",
      "Epoch 58/100\n",
      "348/348 [==============================] - 1s 3ms/step - loss: 0.3006\n",
      "Epoch 59/100\n",
      "348/348 [==============================] - 1s 2ms/step - loss: 0.2957\n",
      "Epoch 60/100\n",
      "348/348 [==============================] - 1s 3ms/step - loss: 0.3004\n",
      "Epoch 61/100\n",
      "348/348 [==============================] - 1s 3ms/step - loss: 0.3204\n",
      "Epoch 62/100\n",
      "348/348 [==============================] - 1s 3ms/step - loss: 0.3565\n",
      "Epoch 63/100\n",
      "348/348 [==============================] - 1s 3ms/step - loss: 0.3732\n",
      "Epoch 64/100\n",
      "348/348 [==============================] - 1s 2ms/step - loss: 0.3411\n",
      "Epoch 65/100\n",
      "348/348 [==============================] - 1s 2ms/step - loss: 0.3191\n",
      "Epoch 66/100\n",
      "348/348 [==============================] - 1s 3ms/step - loss: 0.3472\n",
      "Epoch 67/100\n",
      "348/348 [==============================] - 1s 2ms/step - loss: 0.3937\n",
      "Epoch 68/100\n",
      "348/348 [==============================] - 1s 2ms/step - loss: 0.4829\n",
      "Epoch 69/100\n",
      "348/348 [==============================] - 1s 2ms/step - loss: 0.6679\n",
      "Epoch 70/100\n",
      "348/348 [==============================] - 1s 2ms/step - loss: 0.6270\n",
      "Epoch 71/100\n",
      "348/348 [==============================] - 1s 2ms/step - loss: 0.4069\n",
      "Epoch 72/100\n",
      "348/348 [==============================] - 1s 2ms/step - loss: 0.3143\n",
      "Epoch 73/100\n",
      "348/348 [==============================] - 1s 2ms/step - loss: 0.3157\n",
      "Epoch 74/100\n",
      "348/348 [==============================] - 1s 2ms/step - loss: 0.3096\n",
      "Epoch 75/100\n",
      "348/348 [==============================] - 1s 3ms/step - loss: 0.2820\n",
      "Epoch 76/100\n",
      "348/348 [==============================] - 1s 2ms/step - loss: 0.2626\n",
      "Epoch 77/100\n",
      "348/348 [==============================] - 1s 2ms/step - loss: 0.2700\n",
      "Epoch 78/100\n",
      "348/348 [==============================] - 1s 2ms/step - loss: 0.2982\n",
      "Epoch 79/100\n",
      "348/348 [==============================] - 1s 2ms/step - loss: 0.3272\n",
      "Epoch 80/100\n",
      "348/348 [==============================] - 1s 3ms/step - loss: 0.3429\n",
      "Epoch 81/100\n",
      "348/348 [==============================] - 1s 3ms/step - loss: 0.4031\n",
      "Epoch 82/100\n",
      "348/348 [==============================] - 1s 3ms/step - loss: 0.4701\n",
      "Epoch 83/100\n",
      "348/348 [==============================] - 1s 3ms/step - loss: 0.4304\n",
      "Epoch 84/100\n",
      "348/348 [==============================] - 1s 3ms/step - loss: 0.4013\n",
      "Epoch 85/100\n",
      "348/348 [==============================] - 1s 2ms/step - loss: 0.4216\n",
      "Epoch 86/100\n",
      "348/348 [==============================] - 1s 3ms/step - loss: 0.4316\n",
      "Epoch 87/100\n",
      "348/348 [==============================] - 1s 3ms/step - loss: 0.3650\n",
      "Epoch 88/100\n",
      "348/348 [==============================] - 1s 2ms/step - loss: 0.2917\n",
      "Epoch 89/100\n",
      "348/348 [==============================] - 1s 2ms/step - loss: 0.2803\n",
      "Epoch 90/100\n",
      "348/348 [==============================] - 1s 3ms/step - loss: 0.2962\n",
      "Epoch 91/100\n",
      "348/348 [==============================] - 1s 3ms/step - loss: 0.3067\n",
      "Epoch 92/100\n",
      "348/348 [==============================] - 1s 3ms/step - loss: 0.3061\n",
      "Epoch 93/100\n",
      "348/348 [==============================] - 1s 3ms/step - loss: 0.3109\n",
      "Epoch 94/100\n",
      "348/348 [==============================] - 1s 3ms/step - loss: 0.3410\n",
      "Epoch 95/100\n",
      "348/348 [==============================] - 1s 3ms/step - loss: 0.3900\n",
      "Epoch 96/100\n",
      "348/348 [==============================] - 1s 3ms/step - loss: 0.4161\n",
      "Epoch 97/100\n",
      "348/348 [==============================] - 1s 2ms/step - loss: 0.4281\n",
      "Epoch 98/100\n",
      "348/348 [==============================] - 1s 2ms/step - loss: 0.4412\n",
      "Epoch 99/100\n",
      "348/348 [==============================] - 1s 3ms/step - loss: 0.3681\n",
      "Epoch 100/100\n",
      "348/348 [==============================] - 1s 2ms/step - loss: 0.3338\n"
     ]
    }
   ],
   "source": [
    "history = lstm.fit(X_train, y_train, epochs=100, batch_size=16, shuffle=False, verbose=1)"
   ]
  },
  {
   "cell_type": "markdown",
   "metadata": {},
   "source": [
    "## Prediction"
   ]
  },
  {
   "cell_type": "code",
   "execution_count": null,
   "metadata": {},
   "outputs": [],
   "source": [
    "y_pred = lstm.predict(X_test)"
   ]
  },
  {
   "cell_type": "markdown",
   "metadata": {},
   "source": [
    "## Result plotting and evaluation"
   ]
  },
  {
   "cell_type": "code",
   "execution_count": null,
   "metadata": {},
   "outputs": [
    {
     "data": {
      "image/png": "[encoded data removed]",
      "text/plain": [
       "<Figure size 640x480 with 1 Axes>"
      ]
     },
     "metadata": {},
     "output_type": "display_data"
    }
   ],
   "source": [
    "plt.plot(y_test, label='Actual')\n",
    "plt.plot(y_pred, label='Predicted')\n",
    "plt.title('NVIDIA Stock Price Prediction')\n",
    "plt.xlabel('Time [days]')\n",
    "plt.ylabel('Price [USD]')\n",
    "plt.legend()\n",
    "plt.show()"
   ]
  }
 ],
 "metadata": {
  "kernelspec": {
   "display_name": "stock-price-prediction",
   "language": "python",
   "name": "python3"
  },
  "language_info": {
   "codemirror_mode": {
    "name": "ipython",
    "version": 3
   },
   "file_extension": ".py",
   "mimetype": "text/x-python",
   "name": "python",
   "nbconvert_exporter": "python",
   "pygments_lexer": "ipython3",
   "version": "3.11.5"
  }
 },
 "nbformat": 4,
 "nbformat_minor": 2
}
